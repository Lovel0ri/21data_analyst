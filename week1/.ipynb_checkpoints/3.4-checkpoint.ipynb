{
 "cells": [
  {
   "cell_type": "code",
   "execution_count": 8,
   "id": "c95d520c",
   "metadata": {},
   "outputs": [
    {
     "name": "stdout",
     "output_type": "stream",
     "text": [
      "  买家会员名  买家实际支付金额 收货人姓名            宝贝标题\n",
      "0      mrhy1             41.86     周某某      零基础学Python\n",
      "1      mrhy2             41.86     杨某某      零基础学Python\n",
      "2      mrhy3             48.86     刘某某      零基础学Python\n",
      "3      mrhy4             48.86     张某某      零基础学Python\n",
      "4      mrhy5             48.86     赵某某  C#项目开发实战入门\n",
      "   买家会员名 买家支付宝账号  买家实际支付金额  订单状态 收货人姓名  \\\n",
      "0  mmbooks101       ********             41.86  交易成功     赵某人   \n",
      "1  mmbooks102       ********             41.86  交易成功     李某某   \n",
      "2  mmbooks103       ********             48.86  交易成功     高某某   \n",
      "3  mmbooks104       ********             48.86  交易成功     高某某   \n",
      "4  mmbooks105       ********             48.86  交易成功     高某某   \n",
      "\n",
      "                               收货地址     联系手机        订单创建时间  \\\n",
      "0                  贵州省 贵阳市 花溪区  1********** 2018-05-16 09:38:00   \n",
      "1  新疆维吾尔自治区 乌鲁木齐市 水磨沟区  1********** 2018-05-09 15:31:00   \n",
      "2    云南省 红河哈尼族彝族自治州 开远市  1********** 2018-05-25 15:21:00   \n",
      "3    云南省 红河哈尼族彝族自治州 开远市  1********** 2018-05-14 20:21:00   \n",
      "4    云南省 红河哈尼族彝族自治州 开远市  1********** 2018-05-22 18:47:00   \n",
      "\n",
      "        订单付款时间                  宝贝标题  宝贝种类          物流单号  \\\n",
      "0 2018-05-16 09:41:00  Android项目开发实战入门          1  No:221307653963   \n",
      "1 2018-05-09 15:31:00  Android项目开发实战入门          1  No:221307653740   \n",
      "2 2018-05-25 15:21:00  ASP.NET项目开发实战入门          1  No:221307653898   \n",
      "3 2018-05-14 20:22:00  ASP.NET项目开发实战入门          1  No:221307653892   \n",
      "4 2018-05-22 18:47:00       C#项目开发实战入门          1  No:221307653942   \n",
      "\n",
      "   物流公司 订单备注  宝贝总数量      类别 图书编号  \n",
      "0  申通快递    'null           1  全彩系列      B16  \n",
      "1  申通快递    'null           1  全彩系列      B16  \n",
      "2  申通快递    'null           1  全彩系列      B17  \n",
      "3  申通快递    'null           1  全彩系列      B17  \n",
      "4  申通快递    'null           1  全彩系列      B18  \n"
     ]
    }
   ],
   "source": [
    "#3.4.1.1常规导入\n",
    "import pandas as pd\n",
    "#解决数据输出时列名不对齐的问题\n",
    "pd.set_option('display.unicode.east_asian_width',True)\n",
    "df = pd.read_excel('1月.xlsx')\n",
    "print(df.head())\n",
    "df2 = pd.read_excel('1月.xlsx',sheet_name='莫寒')\n",
    "print(df2.head())\n",
    "\n"
   ]
  },
  {
   "cell_type": "code",
   "execution_count": 37,
   "id": "de7c6ef0",
   "metadata": {},
   "outputs": [
    {
     "name": "stdout",
     "output_type": "stream",
     "text": [
      "            买家实际支付金额 收货人姓名            宝贝标题\n",
      "买家会员名                                                 \n",
      "mrhy1                  41.86     周某某      零基础学Python\n",
      "mrhy2                  41.86     杨某某      零基础学Python\n",
      "mrhy3                  48.86     刘某某      零基础学Python\n",
      "mrhy4                  48.86     张某某      零基础学Python\n",
      "mrhy5                  48.86     赵某某  C#项目开发实战入门\n"
     ]
    }
   ],
   "source": [
    "import pandas as pd\n",
    "#解决数据输出时列名不对齐的问题\n",
    "pd.set_option('display.unicode.east_asian_width',True)\n",
    "df = pd.read_excel('1月.xlsx',index_col = 0)#设置”买家会员名“为行索引\n",
    "print(df.head())\n"
   ]
  },
  {
   "cell_type": "code",
   "execution_count": 35,
   "id": "09e84ed8",
   "metadata": {},
   "outputs": [
    {
     "name": "stdout",
     "output_type": "stream",
     "text": [
      "     mrhy1    41.86  周某某                零基础学Python\n",
      "0    mrhy2    41.86  杨某某                零基础学Python\n",
      "1    mrhy3    48.86  刘某某                零基础学Python\n",
      "2    mrhy4    48.86  张某某                零基础学Python\n",
      "3    mrhy5    48.86  赵某某            C#项目开发实战入门\n",
      "4    mrhy6    48.86  李某某            C#项目开发实战入门\n",
      "5    mrhy7   104.72  张某某            C语言精彩编程200例\n",
      "6    mrhy8    55.86  周某某            C语言精彩编程200例\n",
      "7    mrhy9    79.80  李某某            C语言精彩编程200例\n",
      "8   mrhy10    29.90  程某某         C语言项目开发实战入门\n",
      "9   mrhy11    41.86  曹某某         C语言项目开发实战入门\n",
      "10  mrhy12    41.86  陈某某         C语言项目开发实战入门\n",
      "11  mrhy13    41.86  郝某某         C语言项目开发实战入门\n",
      "12  mrhy14    41.86  胡某某         C语言项目开发实战入门\n",
      "13  mrhy15    41.86  孙某某         C语言项目开发实战入门\n",
      "14  mrhy16    41.86  余某某         C语言项目开发实战入门\n",
      "15  mrhy17    48.86  郭某某       JavaWeb项目开发实战入门\n",
      "16  mrhy18    48.86  阿某某       JavaWeb项目开发实战入门\n",
      "17  mrhy19    48.86  高某某       JavaWeb项目开发实战入门\n",
      "18  mrhy20  1268.00  许某某            Java编程词典珍藏版\n",
      "19  mrhy21   195.44  陈某某  Java程序开发全能学习黄金套装\n",
      "20  mrhy22   195.44  张某某  Java程序开发全能学习黄金套装\n",
      "21  mrhy23    97.72  李某某             Java精彩编程200例\n",
      "22  mrhy24    41.86  素某某          Java项目开发实战入门\n",
      "23  mrhy25    41.86  闫某某          Java项目开发实战入门\n",
      "24  mrhy26    41.86  陈某某          Java项目开发实战入门\n",
      "25  mrhy27    48.86  刘某某           JSP项目开发实战入门\n",
      "26  mrhy28    48.86  高某某           JSP项目开发实战入门\n",
      "27  mrhy29    34.86  孟某某                   SQL即查即用\n",
      "28  mrhy30    34.86  郑某某                   SQL即查即用\n",
      "29  mrhy31    34.86  熊某某                   SQL即查即用\n",
      "30  mrhy32    90.72  严某某                   SQL即查即用\n",
      "31  mrhy33    55.86  胡某某     Visual Basic精彩编程200例\n",
      "32  mrhy34    55.86  额某某     Visual Basic精彩编程200例\n",
      "33  mrhy35    55.86  许某某     Visual Basic精彩编程200例\n",
      "34  mrhy36    55.86  陈某某     Visual Basic精彩编程200例\n",
      "35  mrhy37    55.86  刘某某     Visual Basic精彩编程200例\n",
      "36  mrhy38    62.86  方某某               零基础学Android\n",
      "37  mrhy39    62.86  张某某               零基础学Android\n",
      "38  mrhy40    55.86  毛某某                    零基础学C#\n",
      "39  mrhy41    55.86  林某某                    零基础学C#\n",
      "40  mrhy42    55.86  李某某                    零基础学C#\n",
      "41  mrhy43    48.86  晏某某                 零基础学C语言\n",
      "42  mrhy44    48.86  程某某                 零基础学C语言\n",
      "43  mrhy45    48.86  杨某某                  零基础学Java\n",
      "44  mrhy46    48.86  张某某                  零基础学Java\n",
      "45  mrhy47    48.86  王某某                  零基础学Java\n",
      "46  mrhy48    48.86  王某某                  零基础学Java\n",
      "47  mrhy49    48.86  高某某                  零基础学Java\n",
      "48  mrhy50    48.86  李某某                  零基础学Java\n"
     ]
    }
   ],
   "source": [
    "#指定行索引导入Excel数据\n",
    "import pandas as pd\n",
    "#解决数据输出时列名不对齐的问题\n",
    "pd.set_option('display.unicode.east_asian_width',True)\n",
    "df2 = pd.read_excel('1月.xlsx',header= 1)#设置第一行为列索引\n",
    "print(df2)"
   ]
  },
  {
   "cell_type": "code",
   "execution_count": 40,
   "id": "29352da4",
   "metadata": {},
   "outputs": [
    {
     "name": "stdout",
     "output_type": "stream",
     "text": [
      "  买家会员名 收货人姓名\n",
      "0      mrhy1     周某某\n",
      "1      mrhy2     杨某某\n",
      "2      mrhy3     刘某某\n",
      "3      mrhy4     张某某\n",
      "4      mrhy5     赵某某\n"
     ]
    }
   ],
   "source": [
    "#导入第一列数据（索引为0）\n",
    "import pandas as pd\n",
    "#解决数据输出时列名不对齐的问题\n",
    "pd.set_option('display.unicode.east_asian_width',True)\n",
    "df1 = pd.read_excel('1月.xlsx',usecols=[0])#导入第一列数据\n",
    "print(df1.head())"
   ]
  },
  {
   "cell_type": "code",
   "execution_count": 41,
   "id": "01970862",
   "metadata": {},
   "outputs": [
    {
     "name": "stdout",
     "output_type": "stream",
     "text": [
      "  买家会员名 收货人姓名\n",
      "0      mrhy1     周某某\n",
      "1      mrhy2     杨某某\n",
      "2      mrhy3     刘某某\n",
      "3      mrhy4     张某某\n",
      "4      mrhy5     赵某某\n"
     ]
    }
   ],
   "source": [
    "#导入多列数据\n",
    "import pandas as pd\n",
    "#解决数据输出时列名不对齐的问题\n",
    "pd.set_option('display.unicode.east_asian_width',True)\n",
    "df1 = pd.read_excel('1月.xlsx',usecols=[0,2])#导入前三列数据\n",
    "print(df1.head())"
   ]
  },
  {
   "cell_type": "code",
   "execution_count": 48,
   "id": "77d46a2c",
   "metadata": {},
   "outputs": [
    {
     "name": "stdout",
     "output_type": "stream",
     "text": [
      "                      宝贝标题\n",
      "买家会员名                    \n",
      "mrhy1           零基础学Python\n",
      "mrhy2           零基础学Python\n",
      "mrhy3           零基础学Python\n",
      "mrhy4           零基础学Python\n",
      "mrhy5       C#项目开发实战入门\n"
     ]
    }
   ],
   "source": [
    "#导入指定列\n",
    "import pandas as pd\n",
    "#解决数据输出时列名不对齐的问题\n",
    "pd.set_option('display.unicode.east_asian_width',True)\n",
    "df1 = pd.read_excel('1月.xlsx',usecols=['买家会员名','宝贝标题'],index_col=0)\n",
    "print(df1.head())"
   ]
  },
  {
   "cell_type": "code",
   "execution_count": 50,
   "id": "053203b3",
   "metadata": {},
   "outputs": [
    {
     "name": "stdout",
     "output_type": "stream",
     "text": [
      "  买家会员名  买家实际支付金额 收货人姓名            宝贝标题    订单付款时间 \n",
      "0      mrhy1             41.86     周某某      零基础学Python   2018/5/16 9:41\n",
      "1      mrhy2             41.86     杨某某      零基础学Python   2018/5/9 15:31\n",
      "2      mrhy3             48.86     刘某某      零基础学Python  2018/5/25 15:21\n",
      "3      mrhy4             48.86     张某某      零基础学Python  2018/5/25 15:21\n",
      "4      mrhy5             48.86     赵某某  C#项目开发实战入门  2018/5/25 15:21\n"
     ]
    }
   ],
   "source": [
    "#3.4.2导入csv文件\n",
    "import pandas as pd\n",
    "#设置数据显示的最大列数和宽度\n",
    "pd.set_option('display.max_columns',500)\n",
    "pd.set_option('display.width',1000)\n",
    "#解决数据输出时列名不对齐的问题\n",
    "pd.set_option('display.unicode.east_asian_width',True)\n",
    "df1 = pd.read_csv('1月.csv',encoding = 'gbk')#导入csv文件，并指定编码格式\n",
    "print(df1.head())"
   ]
  },
  {
   "cell_type": "code",
   "execution_count": 52,
   "id": "10485c71",
   "metadata": {},
   "outputs": [
    {
     "name": "stdout",
     "output_type": "stream",
     "text": [
      "  买家会员名  买家实际支付金额 收货人姓名            宝贝标题    订单付款时间 \n",
      "0      mrhy1             41.86     周某某      零基础学Python   2018/5/16 9:41\n",
      "1      mrhy2             41.86     杨某某      零基础学Python   2018/5/9 15:31\n",
      "2      mrhy3             48.86     刘某某      零基础学Python  2018/5/25 15:21\n",
      "3      mrhy4             48.86     张某某      零基础学Python  2018/5/25 15:21\n",
      "4      mrhy5             48.86     赵某某  C#项目开发实战入门  2018/5/25 15:21\n"
     ]
    }
   ],
   "source": [
    "#导入txt文件\n",
    "import pandas as pd\n",
    "df1 = pd.read_csv('1月.txt',sep = '\\t',encoding = 'gbk')\n",
    "print(df1.head())"
   ]
  },
  {
   "cell_type": "code",
   "execution_count": 5,
   "id": "483a8ab4",
   "metadata": {},
   "outputs": [
    {
     "ename": "HTTPError",
     "evalue": "HTTP Error 404: Not Found",
     "output_type": "error",
     "traceback": [
      "\u001b[1;31m---------------------------------------------------------------------------\u001b[0m",
      "\u001b[1;31mHTTPError\u001b[0m                                 Traceback (most recent call last)",
      "Input \u001b[1;32mIn [5]\u001b[0m, in \u001b[0;36m<cell line: 9>\u001b[1;34m()\u001b[0m\n\u001b[0;32m      8\u001b[0m \u001b[38;5;66;03m#遍历网页中的table标签读取网页表格数据\u001b[39;00m\n\u001b[0;32m      9\u001b[0m \u001b[38;5;28;01mfor\u001b[39;00m url \u001b[38;5;129;01min\u001b[39;00m url_list:\n\u001b[1;32m---> 10\u001b[0m     df \u001b[38;5;241m=\u001b[39m df\u001b[38;5;241m.\u001b[39mappend(\u001b[43mpd\u001b[49m\u001b[38;5;241;43m.\u001b[39;49m\u001b[43mread_html\u001b[49m\u001b[43m(\u001b[49m\u001b[43murl\u001b[49m\u001b[43m)\u001b[49m,ignore_index \u001b[38;5;241m=\u001b[39m \u001b[38;5;28;01mTrue\u001b[39;00m)\n\u001b[0;32m     12\u001b[0m \u001b[38;5;66;03m#列表解析:遍历dataframe对象的第三列，以字符串&开头\u001b[39;00m\n\u001b[0;32m     13\u001b[0m df \u001b[38;5;241m=\u001b[39m df[[x\u001b[38;5;241m.\u001b[39mstartswith(\u001b[38;5;124m'\u001b[39m\u001b[38;5;124m$\u001b[39m\u001b[38;5;124m'\u001b[39m) \u001b[38;5;28;01mfor\u001b[39;00m x \u001b[38;5;129;01min\u001b[39;00m df[\u001b[38;5;241m3\u001b[39m]]]\n",
      "File \u001b[1;32mE:\\anaconda3project\\lib\\site-packages\\pandas\\util\\_decorators.py:317\u001b[0m, in \u001b[0;36mdeprecate_nonkeyword_arguments.<locals>.decorate.<locals>.wrapper\u001b[1;34m(*args, **kwargs)\u001b[0m\n\u001b[0;32m    311\u001b[0m \u001b[38;5;28;01mif\u001b[39;00m \u001b[38;5;28mlen\u001b[39m(args) \u001b[38;5;241m>\u001b[39m num_allow_args:\n\u001b[0;32m    312\u001b[0m     warnings\u001b[38;5;241m.\u001b[39mwarn(\n\u001b[0;32m    313\u001b[0m         msg\u001b[38;5;241m.\u001b[39mformat(arguments\u001b[38;5;241m=\u001b[39marguments),\n\u001b[0;32m    314\u001b[0m         \u001b[38;5;167;01mFutureWarning\u001b[39;00m,\n\u001b[0;32m    315\u001b[0m         stacklevel\u001b[38;5;241m=\u001b[39mfind_stack_level(inspect\u001b[38;5;241m.\u001b[39mcurrentframe()),\n\u001b[0;32m    316\u001b[0m     )\n\u001b[1;32m--> 317\u001b[0m \u001b[38;5;28;01mreturn\u001b[39;00m \u001b[43mfunc\u001b[49m\u001b[43m(\u001b[49m\u001b[38;5;241;43m*\u001b[39;49m\u001b[43margs\u001b[49m\u001b[43m,\u001b[49m\u001b[43m \u001b[49m\u001b[38;5;241;43m*\u001b[39;49m\u001b[38;5;241;43m*\u001b[39;49m\u001b[43mkwargs\u001b[49m\u001b[43m)\u001b[49m\n",
      "File \u001b[1;32mE:\\anaconda3project\\lib\\site-packages\\pandas\\io\\html.py:1205\u001b[0m, in \u001b[0;36mread_html\u001b[1;34m(io, match, flavor, header, index_col, skiprows, attrs, parse_dates, thousands, encoding, decimal, converters, na_values, keep_default_na, displayed_only, extract_links)\u001b[0m\n\u001b[0;32m   1201\u001b[0m validate_header_arg(header)\n\u001b[0;32m   1203\u001b[0m io \u001b[38;5;241m=\u001b[39m stringify_path(io)\n\u001b[1;32m-> 1205\u001b[0m \u001b[38;5;28;01mreturn\u001b[39;00m \u001b[43m_parse\u001b[49m\u001b[43m(\u001b[49m\n\u001b[0;32m   1206\u001b[0m \u001b[43m    \u001b[49m\u001b[43mflavor\u001b[49m\u001b[38;5;241;43m=\u001b[39;49m\u001b[43mflavor\u001b[49m\u001b[43m,\u001b[49m\n\u001b[0;32m   1207\u001b[0m \u001b[43m    \u001b[49m\u001b[43mio\u001b[49m\u001b[38;5;241;43m=\u001b[39;49m\u001b[43mio\u001b[49m\u001b[43m,\u001b[49m\n\u001b[0;32m   1208\u001b[0m \u001b[43m    \u001b[49m\u001b[43mmatch\u001b[49m\u001b[38;5;241;43m=\u001b[39;49m\u001b[43mmatch\u001b[49m\u001b[43m,\u001b[49m\n\u001b[0;32m   1209\u001b[0m \u001b[43m    \u001b[49m\u001b[43mheader\u001b[49m\u001b[38;5;241;43m=\u001b[39;49m\u001b[43mheader\u001b[49m\u001b[43m,\u001b[49m\n\u001b[0;32m   1210\u001b[0m \u001b[43m    \u001b[49m\u001b[43mindex_col\u001b[49m\u001b[38;5;241;43m=\u001b[39;49m\u001b[43mindex_col\u001b[49m\u001b[43m,\u001b[49m\n\u001b[0;32m   1211\u001b[0m \u001b[43m    \u001b[49m\u001b[43mskiprows\u001b[49m\u001b[38;5;241;43m=\u001b[39;49m\u001b[43mskiprows\u001b[49m\u001b[43m,\u001b[49m\n\u001b[0;32m   1212\u001b[0m \u001b[43m    \u001b[49m\u001b[43mparse_dates\u001b[49m\u001b[38;5;241;43m=\u001b[39;49m\u001b[43mparse_dates\u001b[49m\u001b[43m,\u001b[49m\n\u001b[0;32m   1213\u001b[0m \u001b[43m    \u001b[49m\u001b[43mthousands\u001b[49m\u001b[38;5;241;43m=\u001b[39;49m\u001b[43mthousands\u001b[49m\u001b[43m,\u001b[49m\n\u001b[0;32m   1214\u001b[0m \u001b[43m    \u001b[49m\u001b[43mattrs\u001b[49m\u001b[38;5;241;43m=\u001b[39;49m\u001b[43mattrs\u001b[49m\u001b[43m,\u001b[49m\n\u001b[0;32m   1215\u001b[0m \u001b[43m    \u001b[49m\u001b[43mencoding\u001b[49m\u001b[38;5;241;43m=\u001b[39;49m\u001b[43mencoding\u001b[49m\u001b[43m,\u001b[49m\n\u001b[0;32m   1216\u001b[0m \u001b[43m    \u001b[49m\u001b[43mdecimal\u001b[49m\u001b[38;5;241;43m=\u001b[39;49m\u001b[43mdecimal\u001b[49m\u001b[43m,\u001b[49m\n\u001b[0;32m   1217\u001b[0m \u001b[43m    \u001b[49m\u001b[43mconverters\u001b[49m\u001b[38;5;241;43m=\u001b[39;49m\u001b[43mconverters\u001b[49m\u001b[43m,\u001b[49m\n\u001b[0;32m   1218\u001b[0m \u001b[43m    \u001b[49m\u001b[43mna_values\u001b[49m\u001b[38;5;241;43m=\u001b[39;49m\u001b[43mna_values\u001b[49m\u001b[43m,\u001b[49m\n\u001b[0;32m   1219\u001b[0m \u001b[43m    \u001b[49m\u001b[43mkeep_default_na\u001b[49m\u001b[38;5;241;43m=\u001b[39;49m\u001b[43mkeep_default_na\u001b[49m\u001b[43m,\u001b[49m\n\u001b[0;32m   1220\u001b[0m \u001b[43m    \u001b[49m\u001b[43mdisplayed_only\u001b[49m\u001b[38;5;241;43m=\u001b[39;49m\u001b[43mdisplayed_only\u001b[49m\u001b[43m,\u001b[49m\n\u001b[0;32m   1221\u001b[0m \u001b[43m    \u001b[49m\u001b[43mextract_links\u001b[49m\u001b[38;5;241;43m=\u001b[39;49m\u001b[43mextract_links\u001b[49m\u001b[43m,\u001b[49m\n\u001b[0;32m   1222\u001b[0m \u001b[43m\u001b[49m\u001b[43m)\u001b[49m\n",
      "File \u001b[1;32mE:\\anaconda3project\\lib\\site-packages\\pandas\\io\\html.py:986\u001b[0m, in \u001b[0;36m_parse\u001b[1;34m(flavor, io, match, attrs, encoding, displayed_only, extract_links, **kwargs)\u001b[0m\n\u001b[0;32m    983\u001b[0m p \u001b[38;5;241m=\u001b[39m parser(io, compiled_match, attrs, encoding, displayed_only, extract_links)\n\u001b[0;32m    985\u001b[0m \u001b[38;5;28;01mtry\u001b[39;00m:\n\u001b[1;32m--> 986\u001b[0m     tables \u001b[38;5;241m=\u001b[39m \u001b[43mp\u001b[49m\u001b[38;5;241;43m.\u001b[39;49m\u001b[43mparse_tables\u001b[49m\u001b[43m(\u001b[49m\u001b[43m)\u001b[49m\n\u001b[0;32m    987\u001b[0m \u001b[38;5;28;01mexcept\u001b[39;00m \u001b[38;5;167;01mValueError\u001b[39;00m \u001b[38;5;28;01mas\u001b[39;00m caught:\n\u001b[0;32m    988\u001b[0m     \u001b[38;5;66;03m# if `io` is an io-like object, check if it's seekable\u001b[39;00m\n\u001b[0;32m    989\u001b[0m     \u001b[38;5;66;03m# and try to rewind it before trying the next parser\u001b[39;00m\n\u001b[0;32m    990\u001b[0m     \u001b[38;5;28;01mif\u001b[39;00m \u001b[38;5;28mhasattr\u001b[39m(io, \u001b[38;5;124m\"\u001b[39m\u001b[38;5;124mseekable\u001b[39m\u001b[38;5;124m\"\u001b[39m) \u001b[38;5;129;01mand\u001b[39;00m io\u001b[38;5;241m.\u001b[39mseekable():\n",
      "File \u001b[1;32mE:\\anaconda3project\\lib\\site-packages\\pandas\\io\\html.py:262\u001b[0m, in \u001b[0;36m_HtmlFrameParser.parse_tables\u001b[1;34m(self)\u001b[0m\n\u001b[0;32m    254\u001b[0m \u001b[38;5;28;01mdef\u001b[39;00m \u001b[38;5;21mparse_tables\u001b[39m(\u001b[38;5;28mself\u001b[39m):\n\u001b[0;32m    255\u001b[0m     \u001b[38;5;124;03m\"\"\"\u001b[39;00m\n\u001b[0;32m    256\u001b[0m \u001b[38;5;124;03m    Parse and return all tables from the DOM.\u001b[39;00m\n\u001b[0;32m    257\u001b[0m \n\u001b[1;32m   (...)\u001b[0m\n\u001b[0;32m    260\u001b[0m \u001b[38;5;124;03m    list of parsed (header, body, footer) tuples from tables.\u001b[39;00m\n\u001b[0;32m    261\u001b[0m \u001b[38;5;124;03m    \"\"\"\u001b[39;00m\n\u001b[1;32m--> 262\u001b[0m     tables \u001b[38;5;241m=\u001b[39m \u001b[38;5;28mself\u001b[39m\u001b[38;5;241m.\u001b[39m_parse_tables(\u001b[38;5;28;43mself\u001b[39;49m\u001b[38;5;241;43m.\u001b[39;49m\u001b[43m_build_doc\u001b[49m\u001b[43m(\u001b[49m\u001b[43m)\u001b[49m, \u001b[38;5;28mself\u001b[39m\u001b[38;5;241m.\u001b[39mmatch, \u001b[38;5;28mself\u001b[39m\u001b[38;5;241m.\u001b[39mattrs)\n\u001b[0;32m    263\u001b[0m     \u001b[38;5;28;01mreturn\u001b[39;00m (\u001b[38;5;28mself\u001b[39m\u001b[38;5;241m.\u001b[39m_parse_thead_tbody_tfoot(table) \u001b[38;5;28;01mfor\u001b[39;00m table \u001b[38;5;129;01min\u001b[39;00m tables)\n",
      "File \u001b[1;32mE:\\anaconda3project\\lib\\site-packages\\pandas\\io\\html.py:821\u001b[0m, in \u001b[0;36m_LxmlFrameParser._build_doc\u001b[1;34m(self)\u001b[0m\n\u001b[0;32m    819\u001b[0m             \u001b[38;5;28;01mpass\u001b[39;00m\n\u001b[0;32m    820\u001b[0m     \u001b[38;5;28;01melse\u001b[39;00m:\n\u001b[1;32m--> 821\u001b[0m         \u001b[38;5;28;01mraise\u001b[39;00m e\n\u001b[0;32m    822\u001b[0m \u001b[38;5;28;01melse\u001b[39;00m:\n\u001b[0;32m    823\u001b[0m     \u001b[38;5;28;01mif\u001b[39;00m \u001b[38;5;129;01mnot\u001b[39;00m \u001b[38;5;28mhasattr\u001b[39m(r, \u001b[38;5;124m\"\u001b[39m\u001b[38;5;124mtext_content\u001b[39m\u001b[38;5;124m\"\u001b[39m):\n",
      "File \u001b[1;32mE:\\anaconda3project\\lib\\site-packages\\pandas\\io\\html.py:802\u001b[0m, in \u001b[0;36m_LxmlFrameParser._build_doc\u001b[1;34m(self)\u001b[0m\n\u001b[0;32m    800\u001b[0m \u001b[38;5;28;01mtry\u001b[39;00m:\n\u001b[0;32m    801\u001b[0m     \u001b[38;5;28;01mif\u001b[39;00m is_url(\u001b[38;5;28mself\u001b[39m\u001b[38;5;241m.\u001b[39mio):\n\u001b[1;32m--> 802\u001b[0m         \u001b[38;5;28;01mwith\u001b[39;00m \u001b[43murlopen\u001b[49m\u001b[43m(\u001b[49m\u001b[38;5;28;43mself\u001b[39;49m\u001b[38;5;241;43m.\u001b[39;49m\u001b[43mio\u001b[49m\u001b[43m)\u001b[49m \u001b[38;5;28;01mas\u001b[39;00m f:\n\u001b[0;32m    803\u001b[0m             r \u001b[38;5;241m=\u001b[39m parse(f, parser\u001b[38;5;241m=\u001b[39mparser)\n\u001b[0;32m    804\u001b[0m     \u001b[38;5;28;01melse\u001b[39;00m:\n\u001b[0;32m    805\u001b[0m         \u001b[38;5;66;03m# try to parse the input in the simplest way\u001b[39;00m\n",
      "File \u001b[1;32mE:\\anaconda3project\\lib\\site-packages\\pandas\\io\\common.py:266\u001b[0m, in \u001b[0;36murlopen\u001b[1;34m(*args, **kwargs)\u001b[0m\n\u001b[0;32m    260\u001b[0m \u001b[38;5;124;03m\"\"\"\u001b[39;00m\n\u001b[0;32m    261\u001b[0m \u001b[38;5;124;03mLazy-import wrapper for stdlib urlopen, as that imports a big chunk of\u001b[39;00m\n\u001b[0;32m    262\u001b[0m \u001b[38;5;124;03mthe stdlib.\u001b[39;00m\n\u001b[0;32m    263\u001b[0m \u001b[38;5;124;03m\"\"\"\u001b[39;00m\n\u001b[0;32m    264\u001b[0m \u001b[38;5;28;01mimport\u001b[39;00m \u001b[38;5;21;01murllib\u001b[39;00m\u001b[38;5;21;01m.\u001b[39;00m\u001b[38;5;21;01mrequest\u001b[39;00m\n\u001b[1;32m--> 266\u001b[0m \u001b[38;5;28;01mreturn\u001b[39;00m \u001b[43murllib\u001b[49m\u001b[38;5;241;43m.\u001b[39;49m\u001b[43mrequest\u001b[49m\u001b[38;5;241;43m.\u001b[39;49m\u001b[43murlopen\u001b[49m\u001b[43m(\u001b[49m\u001b[38;5;241;43m*\u001b[39;49m\u001b[43margs\u001b[49m\u001b[43m,\u001b[49m\u001b[43m \u001b[49m\u001b[38;5;241;43m*\u001b[39;49m\u001b[38;5;241;43m*\u001b[39;49m\u001b[43mkwargs\u001b[49m\u001b[43m)\u001b[49m\n",
      "File \u001b[1;32mE:\\anaconda3project\\lib\\urllib\\request.py:222\u001b[0m, in \u001b[0;36murlopen\u001b[1;34m(url, data, timeout, cafile, capath, cadefault, context)\u001b[0m\n\u001b[0;32m    220\u001b[0m \u001b[38;5;28;01melse\u001b[39;00m:\n\u001b[0;32m    221\u001b[0m     opener \u001b[38;5;241m=\u001b[39m _opener\n\u001b[1;32m--> 222\u001b[0m \u001b[38;5;28;01mreturn\u001b[39;00m \u001b[43mopener\u001b[49m\u001b[38;5;241;43m.\u001b[39;49m\u001b[43mopen\u001b[49m\u001b[43m(\u001b[49m\u001b[43murl\u001b[49m\u001b[43m,\u001b[49m\u001b[43m \u001b[49m\u001b[43mdata\u001b[49m\u001b[43m,\u001b[49m\u001b[43m \u001b[49m\u001b[43mtimeout\u001b[49m\u001b[43m)\u001b[49m\n",
      "File \u001b[1;32mE:\\anaconda3project\\lib\\urllib\\request.py:531\u001b[0m, in \u001b[0;36mOpenerDirector.open\u001b[1;34m(self, fullurl, data, timeout)\u001b[0m\n\u001b[0;32m    529\u001b[0m \u001b[38;5;28;01mfor\u001b[39;00m processor \u001b[38;5;129;01min\u001b[39;00m \u001b[38;5;28mself\u001b[39m\u001b[38;5;241m.\u001b[39mprocess_response\u001b[38;5;241m.\u001b[39mget(protocol, []):\n\u001b[0;32m    530\u001b[0m     meth \u001b[38;5;241m=\u001b[39m \u001b[38;5;28mgetattr\u001b[39m(processor, meth_name)\n\u001b[1;32m--> 531\u001b[0m     response \u001b[38;5;241m=\u001b[39m \u001b[43mmeth\u001b[49m\u001b[43m(\u001b[49m\u001b[43mreq\u001b[49m\u001b[43m,\u001b[49m\u001b[43m \u001b[49m\u001b[43mresponse\u001b[49m\u001b[43m)\u001b[49m\n\u001b[0;32m    533\u001b[0m \u001b[38;5;28;01mreturn\u001b[39;00m response\n",
      "File \u001b[1;32mE:\\anaconda3project\\lib\\urllib\\request.py:640\u001b[0m, in \u001b[0;36mHTTPErrorProcessor.http_response\u001b[1;34m(self, request, response)\u001b[0m\n\u001b[0;32m    637\u001b[0m \u001b[38;5;66;03m# According to RFC 2616, \"2xx\" code indicates that the client's\u001b[39;00m\n\u001b[0;32m    638\u001b[0m \u001b[38;5;66;03m# request was successfully received, understood, and accepted.\u001b[39;00m\n\u001b[0;32m    639\u001b[0m \u001b[38;5;28;01mif\u001b[39;00m \u001b[38;5;129;01mnot\u001b[39;00m (\u001b[38;5;241m200\u001b[39m \u001b[38;5;241m<\u001b[39m\u001b[38;5;241m=\u001b[39m code \u001b[38;5;241m<\u001b[39m \u001b[38;5;241m300\u001b[39m):\n\u001b[1;32m--> 640\u001b[0m     response \u001b[38;5;241m=\u001b[39m \u001b[38;5;28;43mself\u001b[39;49m\u001b[38;5;241;43m.\u001b[39;49m\u001b[43mparent\u001b[49m\u001b[38;5;241;43m.\u001b[39;49m\u001b[43merror\u001b[49m\u001b[43m(\u001b[49m\n\u001b[0;32m    641\u001b[0m \u001b[43m        \u001b[49m\u001b[38;5;124;43m'\u001b[39;49m\u001b[38;5;124;43mhttp\u001b[39;49m\u001b[38;5;124;43m'\u001b[39;49m\u001b[43m,\u001b[49m\u001b[43m \u001b[49m\u001b[43mrequest\u001b[49m\u001b[43m,\u001b[49m\u001b[43m \u001b[49m\u001b[43mresponse\u001b[49m\u001b[43m,\u001b[49m\u001b[43m \u001b[49m\u001b[43mcode\u001b[49m\u001b[43m,\u001b[49m\u001b[43m \u001b[49m\u001b[43mmsg\u001b[49m\u001b[43m,\u001b[49m\u001b[43m \u001b[49m\u001b[43mhdrs\u001b[49m\u001b[43m)\u001b[49m\n\u001b[0;32m    643\u001b[0m \u001b[38;5;28;01mreturn\u001b[39;00m response\n",
      "File \u001b[1;32mE:\\anaconda3project\\lib\\urllib\\request.py:569\u001b[0m, in \u001b[0;36mOpenerDirector.error\u001b[1;34m(self, proto, *args)\u001b[0m\n\u001b[0;32m    567\u001b[0m \u001b[38;5;28;01mif\u001b[39;00m http_err:\n\u001b[0;32m    568\u001b[0m     args \u001b[38;5;241m=\u001b[39m (\u001b[38;5;28mdict\u001b[39m, \u001b[38;5;124m'\u001b[39m\u001b[38;5;124mdefault\u001b[39m\u001b[38;5;124m'\u001b[39m, \u001b[38;5;124m'\u001b[39m\u001b[38;5;124mhttp_error_default\u001b[39m\u001b[38;5;124m'\u001b[39m) \u001b[38;5;241m+\u001b[39m orig_args\n\u001b[1;32m--> 569\u001b[0m     \u001b[38;5;28;01mreturn\u001b[39;00m \u001b[38;5;28;43mself\u001b[39;49m\u001b[38;5;241;43m.\u001b[39;49m\u001b[43m_call_chain\u001b[49m\u001b[43m(\u001b[49m\u001b[38;5;241;43m*\u001b[39;49m\u001b[43margs\u001b[49m\u001b[43m)\u001b[49m\n",
      "File \u001b[1;32mE:\\anaconda3project\\lib\\urllib\\request.py:502\u001b[0m, in \u001b[0;36mOpenerDirector._call_chain\u001b[1;34m(self, chain, kind, meth_name, *args)\u001b[0m\n\u001b[0;32m    500\u001b[0m \u001b[38;5;28;01mfor\u001b[39;00m handler \u001b[38;5;129;01min\u001b[39;00m handlers:\n\u001b[0;32m    501\u001b[0m     func \u001b[38;5;241m=\u001b[39m \u001b[38;5;28mgetattr\u001b[39m(handler, meth_name)\n\u001b[1;32m--> 502\u001b[0m     result \u001b[38;5;241m=\u001b[39m \u001b[43mfunc\u001b[49m\u001b[43m(\u001b[49m\u001b[38;5;241;43m*\u001b[39;49m\u001b[43margs\u001b[49m\u001b[43m)\u001b[49m\n\u001b[0;32m    503\u001b[0m     \u001b[38;5;28;01mif\u001b[39;00m result \u001b[38;5;129;01mis\u001b[39;00m \u001b[38;5;129;01mnot\u001b[39;00m \u001b[38;5;28;01mNone\u001b[39;00m:\n\u001b[0;32m    504\u001b[0m         \u001b[38;5;28;01mreturn\u001b[39;00m result\n",
      "File \u001b[1;32mE:\\anaconda3project\\lib\\urllib\\request.py:649\u001b[0m, in \u001b[0;36mHTTPDefaultErrorHandler.http_error_default\u001b[1;34m(self, req, fp, code, msg, hdrs)\u001b[0m\n\u001b[0;32m    648\u001b[0m \u001b[38;5;28;01mdef\u001b[39;00m \u001b[38;5;21mhttp_error_default\u001b[39m(\u001b[38;5;28mself\u001b[39m, req, fp, code, msg, hdrs):\n\u001b[1;32m--> 649\u001b[0m     \u001b[38;5;28;01mraise\u001b[39;00m HTTPError(req\u001b[38;5;241m.\u001b[39mfull_url, code, msg, hdrs, fp)\n",
      "\u001b[1;31mHTTPError\u001b[0m: HTTP Error 404: Not Found"
     ]
    }
   ],
   "source": [
    "#3.4.4导入html网页\n",
    "import pandas as pd\n",
    "df = pd.DataFrame()\n",
    "url_list = ['http://www.espan.com/nba/salaries/_/seasontype/4']\n",
    "for i in range(2,13):\n",
    "    url = 'http://www.espan.com/nba/salaries/_/page/%s/seasontype/4' % i\n",
    "    url_list.append(url)\n",
    "#遍历网页中的table标签读取网页表格数据\n",
    "for url in url_list:\n",
    "    df = df.append(pd.read_html(url),ignore_index = True)\n",
    "\n",
    "#列表解析:遍历dataframe对象的第三列，以字符串&开头\n",
    "df = df[[x.startswith('$') for x in df[3]]]\n",
    "print(df)\n",
    "df.to_csv('NBA1.csv',header=['RK','NAME','NAME','SALARY'],index=Flase)#导出.csv文件"
   ]
  },
  {
   "cell_type": "code",
   "execution_count": null,
   "id": "f35df168",
   "metadata": {},
   "outputs": [],
   "source": [
    " import pandas as pd\n",
    "#解决数据输出时列名不对齐的问题\n",
    "pd.set_option('display.unicode.east_asian_width',True)\n",
    "data = [[110,105,99],[105,88,115],[109,120,130],[112,115]]\n",
    "name = ['明日','七月流火','高袁圆','二月二']\n",
    "columns = ['语文','数学','英语']\n",
    "df = pd.DataFrame(data = data ,index = name, columns = columns)\n",
    "print(df)\n",
    "print(df.loc['明日'])\n",
    "print()\n",
    "print(df.loc['七月流火'])\n",
    "print(df.loc[['明日','高袁圆']])\n",
    "print('')\n",
    "print(df.iloc[[0,2]])"
   ]
  },
  {
   "cell_type": "code",
   "execution_count": 24,
   "id": "613ad0b2",
   "metadata": {},
   "outputs": [
    {
     "name": "stdout",
     "output_type": "stream",
     "text": [
      "          语文  数学   英语\n",
      "明日       110   105   99.0\n",
      "七月流火   105    88  115.0\n",
      "高袁圆     109   120  130.0\n",
      "二月二     112   115    NaN\n",
      "\n",
      "          语文  数学   英语\n",
      "明日       110   105   99.0\n",
      "七月流火   105    88  115.0\n",
      "\n",
      "          语文  数学   英语\n",
      "明日       110   105   99.0\n",
      "七月流火   105    88  115.0\n",
      "高袁圆     109   120  130.0\n",
      "二月二     112   115    NaN\n",
      "\n",
      "          语文  数学   英语\n",
      "七月流火   105    88  115.0\n",
      "高袁圆     109   120  130.0\n",
      "二月二     112   115    NaN\n"
     ]
    }
   ],
   "source": [
    "#抽取连续几个学生的考试成绩\n",
    "import pandas as pd\n",
    "#解决数据输出时列名不对齐的问题\n",
    "pd.set_option('display.unicode.east_asian_width',True)\n",
    "data = [[110,105,99],[105,88,115],[109,120,130],[112,115]]\n",
    "name = ['明日','七月流火','高袁圆','二月二']\n",
    "columns = ['语文','数学','英语']\n",
    "df = pd.DataFrame(data = data ,index = name, columns = columns)\n",
    "print(df.loc['明日':'二月二'])#从明日到二月二\n",
    "print('')\n",
    "print(df.loc[:'七月流火':])#从第一行到七月流火\n",
    "print('')\n",
    "print(df.iloc[0:4])\n",
    "print('')\n",
    "print(df.iloc[1::])#从第二行到最后一行"
   ]
  },
  {
   "cell_type": "code",
   "execution_count": null,
   "id": "76186b05",
   "metadata": {},
   "outputs": [],
   "source": []
  }
 ],
 "metadata": {
  "kernelspec": {
   "display_name": "Python 3 (ipykernel)",
   "language": "python",
   "name": "python3"
  },
  "language_info": {
   "codemirror_mode": {
    "name": "ipython",
    "version": 3
   },
   "file_extension": ".py",
   "mimetype": "text/x-python",
   "name": "python",
   "nbconvert_exporter": "python",
   "pygments_lexer": "ipython3",
   "version": "3.8.13"
  }
 },
 "nbformat": 4,
 "nbformat_minor": 5
}
