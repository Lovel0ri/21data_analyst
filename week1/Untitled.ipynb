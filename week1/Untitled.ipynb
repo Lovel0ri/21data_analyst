{
 "cells": [
  {
   "cell_type": "code",
   "execution_count": 2,
   "id": "7c24a32d",
   "metadata": {},
   "outputs": [
    {
     "name": "stdout",
     "output_type": "stream",
     "text": [
      "          语文  数学   英语\n",
      "明日       110   105   99.0\n",
      "七月流火   105    88  115.0\n",
      "高袁圆     109   120  130.0\n",
      "二月二     112   115    NaN\n",
      "语文    110.0\n",
      "数学    105.0\n",
      "英语     99.0\n",
      "Name: 明日, dtype: float64\n",
      "\n",
      "语文    105.0\n",
      "数学     88.0\n",
      "英语    115.0\n",
      "Name: 七月流火, dtype: float64\n",
      "        语文  数学   英语\n",
      "明日     110   105   99.0\n",
      "高袁圆   109   120  130.0\n",
      "\n",
      "        语文  数学   英语\n",
      "明日     110   105   99.0\n",
      "高袁圆   109   120  130.0\n"
     ]
    }
   ],
   "source": [
    " import pandas as pd\n",
    "#解决数据输出时列名不对齐的问题\n",
    "pd.set_option('display.unicode.east_asian_width',True)\n",
    "data = [[110,105,99],[105,88,115],[109,120,130],[112,115]]\n",
    "name = ['明日','七月流火','高袁圆','二月二']\n",
    "columns = ['语文','数学','英语']\n",
    "df = pd.DataFrame(data = data ,index = name, columns = columns)\n",
    "print(df)\n",
    "print(df.loc['明日'])\n",
    "print()\n",
    "print(df.loc['七月流火'])\n",
    "print(df.loc[['明日','高袁圆']])\n",
    "print('')\n",
    "print(df.iloc[[0,2]])"
   ]
  },
  {
   "cell_type": "code",
   "execution_count": 1,
   "id": "1631d22c",
   "metadata": {},
   "outputs": [
    {
     "name": "stdout",
     "output_type": "stream",
     "text": [
      "          语文  数学   英语\n",
      "明日       110   105   99.0\n",
      "七月流火   105    88  115.0\n",
      "高袁圆     109   120  130.0\n",
      "二月二     112   115    NaN\n",
      "\n",
      "          语文  数学   英语\n",
      "明日       110   105   99.0\n",
      "七月流火   105    88  115.0\n",
      "\n",
      "          语文  数学   英语\n",
      "明日       110   105   99.0\n",
      "七月流火   105    88  115.0\n",
      "高袁圆     109   120  130.0\n",
      "二月二     112   115    NaN\n",
      "\n",
      "          语文  数学   英语\n",
      "七月流火   105    88  115.0\n",
      "高袁圆     109   120  130.0\n",
      "二月二     112   115    NaN\n"
     ]
    }
   ],
   "source": [
    "#抽取连续几个学生的考试成绩\n",
    "import pandas as pd\n",
    "#解决数据输出时列名不对齐的问题\n",
    "pd.set_option('display.unicode.east_asian_width',True)\n",
    "data = [[110,105,99],[105,88,115],[109,120,130],[112,115]]\n",
    "name = ['明日','七月流火','高袁圆','二月二']\n",
    "columns = ['语文','数学','英语']\n",
    "df = pd.DataFrame(data = data ,index = name, columns = columns)\n",
    "print(df.loc['明日':'二月二'])#从明日到二月二\n",
    "print('')\n",
    "print(df.loc[:'七月流火':])#从第一行到七月流火\n",
    "print('')\n",
    "print(df.iloc[0:4])\n",
    "print('')\n",
    "print(df.iloc[1::])#从第二行到最后一行"
   ]
  },
  {
   "cell_type": "code",
   "execution_count": 15,
   "id": "5883e0a6",
   "metadata": {},
   "outputs": [
    {
     "name": "stdout",
     "output_type": "stream",
     "text": [
      "          语文  数学\n",
      "明日       110   105\n",
      "七月流火   105    88\n",
      "高袁圆     109   120\n",
      "二月二     112   115\n",
      "\n",
      "          语文  数学\n",
      "明日       110   105\n",
      "七月流火   105    88\n",
      "高袁圆     109   120\n",
      "二月二     112   115\n",
      "\n",
      "          语文  数学\n",
      "明日       110   105\n",
      "七月流火   105    88\n",
      "高袁圆     109   120\n",
      "二月二     112   115\n",
      "\n",
      "          语文  数学   英语\n",
      "明日       110   105   99.0\n",
      "七月流火   105    88  115.0\n",
      "高袁圆     109   120  130.0\n",
      "二月二     112   115    NaN\n",
      "\n",
      "          语文  数学\n",
      "明日       110   105\n",
      "七月流火   105    88\n",
      "高袁圆     109   120\n",
      "二月二     112   115\n"
     ]
    }
   ],
   "source": [
    "#3.5.3抽取指定列数据\n",
    "import pandas as pd\n",
    "#解决数据输出时列名不对齐的问题\n",
    "pd.set_option('display.unicode.east_asian_width',True)\n",
    "data = [[110,105,99],[105,88,115],[109,120,130],[112,115]]\n",
    "name = ['明日','七月流火','高袁圆','二月二']\n",
    "columns = ['语文','数学','英语']\n",
    "df = pd.DataFrame(data = data, index = name, columns = columns)\n",
    "print(df[['语文','数学']])#抽取语文和数学的考试成绩\n",
    "print('')\n",
    "print(df.loc[:,['语文','数学']])#抽取语文和数学的考试成绩\n",
    "print('')\n",
    "print(df.iloc[:,[0,1]])\n",
    "print('')\n",
    "print(df.loc[:,'语文':])#抽取从'语文'开始到最后一列\n",
    "print('')\n",
    "print(df.iloc[:,:2])#连续抽取从1列开始到第三列，但不包含第3列"
   ]
  },
  {
   "cell_type": "code",
   "execution_count": 31,
   "id": "d6e1542f",
   "metadata": {
    "scrolled": true
   },
   "outputs": [
    {
     "name": "stdout",
     "output_type": "stream",
     "text": [
      "115.0\n",
      "\n",
      "           英语\n",
      "七月流火  115.0\n",
      "          数学   英语\n",
      "七月流火    88  115.0\n",
      "\n",
      "           英语\n",
      "七月流火  115.0\n",
      "           英语\n",
      "七月流火  115.0\n",
      "高袁圆    130.0\n",
      "二月二      NaN\n",
      "          语文   英语\n",
      "七月流火   105  115.0\n",
      "高袁圆     109  130.0\n",
      "二月二     112    NaN\n"
     ]
    }
   ],
   "source": [
    "#3.5.4抽取指定行列数据\n",
    "import pandas as pd\n",
    "#解决数据输出时列名不对齐的问题\n",
    "pd.set_option('display.unicode.east_asian_width',True)\n",
    "data = [[110,105,99],[105,88,115],[109,120,130],[112,115]]\n",
    "name = ['明日','七月流火','高袁圆','二月二']\n",
    "columns = ['语文','数学','英语']\n",
    "df = pd.DataFrame(data = data, index = name, columns = columns)\n",
    "print(df.loc['七月流火','英语'])#英语成绩\n",
    "print('')\n",
    "print(df.loc[['七月流火'],['英语']])#七月流火的英语成绩\n",
    "print(df.loc[['七月流火'],['数学','英语']])#七月流火的数学和英语成绩\n",
    "print('')\n",
    "print(df.iloc [[1],[2]])#第二行第三列\n",
    "print(df.iloc[1:,[2]])#第二行到最后一行的第三列\n",
    "print(df.iloc[1:,[0,2]])\n",
    "print(df.iloc[:,2)"
   ]
  }
 ],
 "metadata": {
  "kernelspec": {
   "display_name": "Python 3 (ipykernel)",
   "language": "python",
   "name": "python3"
  },
  "language_info": {
   "codemirror_mode": {
    "name": "ipython",
    "version": 3
   },
   "file_extension": ".py",
   "mimetype": "text/x-python",
   "name": "python",
   "nbconvert_exporter": "python",
   "pygments_lexer": "ipython3",
   "version": "3.8.13"
  }
 },
 "nbformat": 4,
 "nbformat_minor": 5
}
