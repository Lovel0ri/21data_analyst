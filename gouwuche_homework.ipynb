{
 "cells": [
  {
   "cell_type": "code",
   "execution_count": 3,
   "id": "1d4f5822",
   "metadata": {
    "scrolled": false
   },
   "outputs": [
    {
     "name": "stdout",
     "output_type": "stream",
     "text": [
      "请输入您的余额 (退出请输入q):50\n",
      "['1:短袖 30元', '2:裤子 40元', '3:短裙 60元']\n",
      "\n",
      "请输入商品编号进行商品的购买2\n",
      "商品总价是40\n",
      "购买成功\n",
      "您购买的商品:2:裤子 40元\n",
      "您还有10\n"
     ]
    }
   ],
   "source": [
    "# 1.0.0使用列表，单个购买\n",
    "goodslist = [\"1:短袖 30元\",\"2:裤子 40元\",\"3:短裙 60元\"]\n",
    "goodsprice = [30,40,60]\n",
    "while True:\n",
    "    balance = input(\"请输入您的余额\"' (退出请输入q):')\n",
    "    if balance == \"q\":\n",
    "        break\n",
    "    print(f\"{goodslist}\\n\")\n",
    "    choose_goods = input(\"请输入商品编号进行商品的购买\")\n",
    "\n",
    "    num = int(choose_goods)#将输入的字符串转换为int整数\n",
    "    goodschosen_price = goodsprice[num-1]\n",
    "    goodschosen_list = goodslist[num-1]\n",
    "    print(f\"商品总价是{goodschosen_price}\")\n",
    "    balance = int(balance)\n",
    "    if balance >= goodschosen_price:\n",
    "        balance -= goodschosen_price\n",
    "        print(\"购买成功\")\n",
    "    elif balance < goodschosen_price:\n",
    "        print(\"购买失败\")\n",
    "    print(f\"您购买的商品:{goodschosen_list}\\n您还有{balance}元\")\n",
    "    break\n"
   ]
  },
  {
   "cell_type": "code",
   "execution_count": null,
   "id": "3cc3d9f6",
   "metadata": {},
   "outputs": [
    {
     "name": "stdout",
     "output_type": "stream",
     "text": [
      "请输入您的余额 (退出请输入q):\n",
      "请输入您的余额 (退出请输入q):\n",
      "请输入您的余额 (退出请输入q):\n",
      "请输入您的余额 (退出请输入q):\n"
     ]
    }
   ],
   "source": [
    "#2.0.0使用字典\n",
    "goods = {\n",
    "    1:{\n",
    "        \"good_name\":\"短袖\",\n",
    "        \"price\":30,\n",
    "    },\n",
    "    2:{\n",
    "        \"good_name\":\"裤子\",\n",
    "        \"price\":40,\n",
    "    },\n",
    "    3:{\n",
    "        \"good_name\":\"短裙\",\n",
    "        \"price\":60\n",
    "    }\n",
    "}\n",
    "\n",
    "\n",
    "while True:\n",
    "    \n",
    "    balance = input(\"请输入您的余额\"' (退出请输入q):')\n",
    "    if balance == \"q\" or balance is None:\n",
    "        break\n",
    "    elif balance:\n",
    "        for goods_id,goodsinfo in goods.items():\n",
    "            print(f\"{goods_id}:{goodsinfo}\")\n",
    "        input_goodsid_chosen = input(\"请输入商品编号进行商品的购买,用逗号隔开\")\n",
    "        goodsid_chosen = [int(i) for i in input_goodsid_chosen.split(\",\")]\n",
    "\n",
    "        total_goods_chosen = []\n",
    "        goods_price = 0\n",
    "\n",
    "        for good_id in goodsid_chosen:\n",
    "            total_goods_chosen.append(goods[good_id][\"good_name\"])\n",
    "            goods_price += goods[good_id]['price']\n",
    "        print(total_goods_chosen)\n",
    "        int_balance = int(balance)\n",
    "        if int_balance>=goods_price  :\n",
    "            int_balance -= goods_price\n",
    "            print(\"购买成功\")\n",
    "        else:\n",
    "            print(\"购买失败，余额不足\")\n",
    "        print(f\"您购买的商品和金额是:{','.join(total_goods_chosen)} {goods_price}\")\n",
    "        print(f\"您的余额是{int_balance}\")\n",
    "\n",
    "    \n",
    "\n",
    "    \n",
    "\n",
    "   \n"
   ]
  },
  {
   "cell_type": "code",
   "execution_count": 37,
   "id": "2962ce03",
   "metadata": {},
   "outputs": [
    {
     "name": "stdout",
     "output_type": "stream",
     "text": [
      "请输入余额:100\n",
      "购买成功\n"
     ]
    },
    {
     "data": {
      "text/plain": [
       "'您购买的商品和金额是:短袖,裤子 70您支付宝余额是30'"
      ]
     },
     "execution_count": 37,
     "metadata": {},
     "output_type": "execute_result"
    }
   ],
   "source": [
    "#3.0.0创建过程\n",
    "\n",
    "\n",
    "def show_goods():\n",
    "    goods = {\n",
    "        1: {\n",
    "            \"good_name\": \"短袖\",\n",
    "            \"price\": 30,\n",
    "        },\n",
    "        2: {\n",
    "            \"good_name\": \"裤子\",\n",
    "            \"price\": 40,\n",
    "        },\n",
    "        3: {\n",
    "            \"good_name\": \"短裙\",\n",
    "            \"price\": 60\n",
    "        }\n",
    "    }\n",
    "    return goods\n",
    "\n",
    "\n",
    "\n",
    "\n",
    "\n",
    "def select_goods(*goods_chosen):\n",
    "    goods = {\n",
    "        1: {\n",
    "            \"good_name\": \"短袖\",\n",
    "            \"price\": 30,\n",
    "        },\n",
    "        2: {\n",
    "            \"good_name\": \"裤子\",\n",
    "            \"price\": 40,\n",
    "        },\n",
    "        3: {\n",
    "            \"good_name\": \"短裙\",\n",
    "            \"price\": 60\n",
    "        }\n",
    "    }\n",
    "\n",
    "    balance = input(\"请输入余额:\")\n",
    "    if balance == 'q' or balance is None:\n",
    "        return select_goods()\n",
    "\n",
    "\n",
    "    goods_chosen = list(goods_chosen)\n",
    "    total_goods_chosen = []\n",
    "    goods_price = []\n",
    "    for goods_id in goods_chosen:\n",
    "        total_goods_chosen.append(goods[goods_id][\"good_name\"])\n",
    "        goods_price.append(goods[goods_id]['price'])\n",
    "    balance = int(balance)\n",
    "    goods_price = sum(goods_price)\n",
    "    if balance >= goods_price:\n",
    "        balance -= goods_price\n",
    "        print(\"购买成功\")\n",
    "    else:\n",
    "        print(\"购买失败，余额不足\")\n",
    "\n",
    "    return f\"您购买的商品和金额是:{','.join(total_goods_chosen)} {goods_price}您支付宝余额是{balance}\"\n",
    "\n",
    "\n",
    "select_goods(1,2)\n"
   ]
  },
  {
   "cell_type": "code",
   "execution_count": null,
   "id": "02750aa7",
   "metadata": {},
   "outputs": [],
   "source": []
  },
  {
   "cell_type": "code",
   "execution_count": null,
   "id": "ec1017c9",
   "metadata": {},
   "outputs": [],
   "source": []
  },
  {
   "cell_type": "code",
   "execution_count": null,
   "id": "0a612dda",
   "metadata": {},
   "outputs": [],
   "source": []
  }
 ],
 "metadata": {
  "kernelspec": {
   "display_name": "Python 3 (ipykernel)",
   "language": "python",
   "name": "python3"
  },
  "language_info": {
   "codemirror_mode": {
    "name": "ipython",
    "version": 3
   },
   "file_extension": ".py",
   "mimetype": "text/x-python",
   "name": "python",
   "nbconvert_exporter": "python",
   "pygments_lexer": "ipython3",
   "version": "3.8.13"
  }
 },
 "nbformat": 4,
 "nbformat_minor": 5
}
