{
 "cells": [
  {
   "cell_type": "code",
   "execution_count": 12,
   "id": "b9546e69",
   "metadata": {},
   "outputs": [
    {
     "name": "stdout",
     "output_type": "stream",
     "text": [
      "   买家会员名 买家支付宝账号  买家实际支付金额  订单状态 收货人姓名  \\\n",
      "0  mmbooks101       ********             41.86  交易成功     赵某人   \n",
      "1  mmbooks102       ********             41.86  交易成功     李某某   \n",
      "2  mmbooks103       ********             48.86  交易成功     高某某   \n",
      "3  mmbooks104       ********             48.86  交易成功     高某某   \n",
      "4  mmbooks105       ********             48.86  交易成功     高某某   \n",
      "\n",
      "                               收货地址     联系手机        订单创建时间  \\\n",
      "0                  贵州省 贵阳市 花溪区  1********** 2018-05-16 09:38:00   \n",
      "1  新疆维吾尔自治区 乌鲁木齐市 水磨沟区  1********** 2018-05-09 15:31:00   \n",
      "2    云南省 红河哈尼族彝族自治州 开远市  1********** 2018-05-25 15:21:00   \n",
      "3    云南省 红河哈尼族彝族自治州 开远市  1********** 2018-05-14 20:21:00   \n",
      "4    云南省 红河哈尼族彝族自治州 开远市  1********** 2018-05-22 18:47:00   \n",
      "\n",
      "        订单付款时间                  宝贝标题  宝贝种类          物流单号  \\\n",
      "0 2018-05-16 09:41:00  Android项目开发实战入门          1  No:221307653963   \n",
      "1 2018-05-09 15:31:00  Android项目开发实战入门          1  No:221307653740   \n",
      "2 2018-05-25 15:21:00  ASP.NET项目开发实战入门          1  No:221307653898   \n",
      "3 2018-05-14 20:22:00  ASP.NET项目开发实战入门          1  No:221307653892   \n",
      "4 2018-05-22 18:47:00       C#项目开发实战入门          1  No:221307653942   \n",
      "\n",
      "   物流公司 订单备注  宝贝总数量      类别 图书编号  \n",
      "0  申通快递    'null           1  全彩系列      B16  \n",
      "1  申通快递    'null           1  全彩系列      B16  \n",
      "2  申通快递    'null           1  全彩系列      B17  \n",
      "3  申通快递    'null           1  全彩系列      B17  \n",
      "4  申通快递    'null           1  全彩系列      B18  \n"
     ]
    }
   ],
   "source": [
    "import pandas as pd\n",
    "pd.set_option('display.unicode.east_asian_width',True)\n",
    "df = pd.read_excel('1月.xlsx',sheet_name=\"莫寒\")\n",
    "print(df.head())"
   ]
  },
  {
   "cell_type": "code",
   "execution_count": 21,
   "id": "4a0200a2",
   "metadata": {
    "scrolled": true
   },
   "outputs": [
    {
     "name": "stdout",
     "output_type": "stream",
     "text": [
      "            买家实际支付金额 收货人姓名            宝贝标题\n",
      "买家会员名                                                 \n",
      "mrhy1                  41.86     周某某      零基础学Python\n",
      "mrhy2                  41.86     杨某某      零基础学Python\n",
      "mrhy3                  48.86     刘某某      零基础学Python\n",
      "mrhy4                  48.86     张某某      零基础学Python\n",
      "mrhy5                  48.86     赵某某  C#项目开发实战入门\n"
     ]
    }
   ],
   "source": [
    "import pandas as pd\n",
    "pd.set_option('display.unicode.east_asian_width',True)\n",
    "df = pd.read_excel('1月.xlsx',index_col=0)\n",
    "print(df.head())"
   ]
  },
  {
   "cell_type": "code",
   "execution_count": 29,
   "id": "82f84994",
   "metadata": {},
   "outputs": [
    {
     "name": "stdout",
     "output_type": "stream",
     "text": [
      "   mrhy1  41.86  周某某      零基础学Python\n",
      "0  mrhy2  41.86  杨某某      零基础学Python\n",
      "1  mrhy3  48.86  刘某某      零基础学Python\n",
      "2  mrhy4  48.86  张某某      零基础学Python\n",
      "3  mrhy5  48.86  赵某某  C#项目开发实战入门\n",
      "4  mrhy6  48.86  李某某  C#项目开发实战入门\n"
     ]
    }
   ],
   "source": [
    "import pandas as pd\n",
    "pd.set_option('display.unicode.east_asian_width',True)\n",
    "df = pd.read_excel('1月.xlsx',header=1)\n",
    "print(df.head())"
   ]
  },
  {
   "cell_type": "code",
   "execution_count": 34,
   "id": "dae3fe2a",
   "metadata": {},
   "outputs": [
    {
     "name": "stdout",
     "output_type": "stream",
     "text": [
      "  买家会员名\n",
      "0      mrhy1\n",
      "1      mrhy2\n",
      "2      mrhy3\n",
      "3      mrhy4\n",
      "4      mrhy5\n"
     ]
    }
   ],
   "source": [
    "import pandas as pd\n",
    "pd.set_option('display.unicode.east_asian_width',True)\n",
    "df = pd.read_excel('1月.xlsx',usecols=[0])\n",
    "print(df.head())"
   ]
  },
  {
   "cell_type": "code",
   "execution_count": 38,
   "id": "80ab5842",
   "metadata": {
    "scrolled": true
   },
   "outputs": [
    {
     "name": "stdout",
     "output_type": "stream",
     "text": [
      "  买家会员名            宝贝标题\n",
      "0      mrhy1      零基础学Python\n",
      "1      mrhy2      零基础学Python\n",
      "2      mrhy3      零基础学Python\n",
      "3      mrhy4      零基础学Python\n",
      "4      mrhy5  C#项目开发实战入门\n"
     ]
    }
   ],
   "source": [
    "import pandas as pd\n",
    "pd.set_option('display.unicode.east_asian_width',True)\n",
    "df = pd.read_excel('1月.xlsx',usecols=['买家会员名','宝贝标题'])\n",
    "print(df.head())"
   ]
  },
  {
   "cell_type": "code",
   "execution_count": 61,
   "id": "3ff166f4",
   "metadata": {},
   "outputs": [
    {
     "name": "stdout",
     "output_type": "stream",
     "text": [
      "语文    110.0\n",
      "数学    105.0\n",
      "英语     99.0\n",
      "Name: 明日, dtype: float64\n",
      "          语文  数学   英语\n",
      "明日       110   105   99.0\n",
      "七月流火   105    88  115.0\n",
      "          语文  数学   英语\n",
      "明日       110   105   99.0\n",
      "七月流火   105    88  115.0\n"
     ]
    }
   ],
   "source": [
    "import pandas as pd\n",
    "pd.set_option('display.unicode.east_asian_width',True)\n",
    "data = [[110,105,99],[105,88,115],[109,120,130],[112,115]]\n",
    "name = ['明日','七月流火','高圆圆','二月二']\n",
    "columns = ['语文','数学','英语']\n",
    "df = pd.DataFrame(data=data,index=name,columns=columns)\n",
    "print(df.loc['明日'])\n",
    "print(df.loc[['明日','七月流火']])\n",
    "print(df.iloc[[0,1]])"
   ]
  },
  {
   "cell_type": "code",
   "execution_count": 66,
   "id": "06210689",
   "metadata": {
    "scrolled": true
   },
   "outputs": [
    {
     "name": "stdout",
     "output_type": "stream",
     "text": [
      "          语文  数学\n",
      "明日       110   105\n",
      "七月流火   105    88\n",
      "高圆圆     109   120\n",
      "二月二     112   115\n",
      "          语文  数学\n",
      "明日       110   105\n",
      "七月流火   105    88\n",
      "高圆圆     109   120\n",
      "二月二     112   115\n",
      "          语文  数学   英语\n",
      "明日       110   105   99.0\n",
      "七月流火   105    88  115.0\n",
      "高圆圆     109   120  130.0\n",
      "二月二     112   115    NaN\n",
      "          语文  数学\n",
      "明日       110   105\n",
      "七月流火   105    88\n",
      "高圆圆     109   120\n",
      "二月二     112   115\n"
     ]
    }
   ],
   "source": [
    "import pandas as pd\n",
    "pd.set_option('display.unicode.east_asian_width',True)\n",
    "data = [[110,105,99],[105,88,115],[109,120,130],[112,115]]\n",
    "name = ['明日','七月流火','高圆圆','二月二']\n",
    "columns = ['语文','数学','英语']\n",
    "df = pd.DataFrame(data=data,index=name,columns=columns)\n",
    "print(df.loc[:,['语文','数学']])#抽取语文和数学\n",
    "print(df.iloc[:,[0,1]])#抽取第一列和第二列\n",
    "print(df.loc[:,'语文':])#抽取从语文开始到最后一列\n",
    "print(df.iloc[:,:2])#连续抽取从第一列开始到第三列"
   ]
  },
  {
   "cell_type": "code",
   "execution_count": 73,
   "id": "a1461e91",
   "metadata": {},
   "outputs": [
    {
     "name": "stdout",
     "output_type": "stream",
     "text": [
      "115.0\n",
      "           英语\n",
      "七月流火  115.0\n",
      "          数学   英语\n",
      "七月流火    88  115.0\n",
      "          数学   英语\n",
      "明日       105   99.0\n",
      "七月流火    88  115.0\n",
      "高圆圆     120  130.0\n",
      "二月二     115    NaN\n"
     ]
    }
   ],
   "source": [
    "import pandas as pd\n",
    "pd.set_option('display.unicode.east_asian_width',True)\n",
    "data = [[110,105,99],[105,88,115],[109,120,130],[112,115]]\n",
    "name = ['明日','七月流火','高圆圆','二月二']\n",
    "columns = ['语文','数学','英语']\n",
    "df = pd.DataFrame(data=data,index=name,columns=columns)\n",
    "print(df.loc['七月流火','英语'])#英语成绩\n",
    "print(df.loc[['七月流火'],['英语']])#七月流火的数学和英语成绩\n",
    "print(df.loc[['七月流火'],['数学','英语']])\n",
    "print(df.loc[:,['数学','英语']])\n",
    "\n"
   ]
  },
  {
   "cell_type": "code",
   "execution_count": 81,
   "id": "3e8076ca",
   "metadata": {},
   "outputs": [
    {
     "name": "stdout",
     "output_type": "stream",
     "text": [
      "           英语\n",
      "七月流火  115.0\n",
      "           英语\n",
      "七月流火  115.0\n",
      "高圆圆    130.0\n",
      "二月二      NaN\n",
      "          语文   英语\n",
      "七月流火   105  115.0\n",
      "高圆圆     109  130.0\n",
      "二月二     112    NaN\n",
      "           英语\n",
      "明日       99.0\n",
      "七月流火  115.0\n",
      "高圆圆    130.0\n",
      "二月二      NaN\n"
     ]
    }
   ],
   "source": [
    "import pandas as pd\n",
    "pd.set_option('display.unicode.east_asian_width',True)\n",
    "data = [[110,105,99],[105,88,115],[109,120,130],[112,115]]\n",
    "name = ['明日','七月流火','高圆圆','二月二']\n",
    "columns = ['语文','数学','英语']\n",
    "df = pd.DataFrame(data=data,index=name,columns=columns)\n",
    "print(df.iloc[[1],[2]])\n",
    "print(df.iloc[1:,[2]])\n",
    "print(df.iloc[1:,[0,2]])\n",
    "print(df.iloc[:,[2]])\n"
   ]
  },
  {
   "cell_type": "code",
   "execution_count": 85,
   "id": "3ad7d9ea",
   "metadata": {},
   "outputs": [
    {
     "name": "stdout",
     "output_type": "stream",
     "text": [
      "        语文  数学   英语\n",
      "明日     110   105   99.0\n",
      "高圆圆   109   120  130.0\n",
      "二月二   112   115    NaN\n"
     ]
    }
   ],
   "source": [
    "import pandas as pd\n",
    "pd.set_option('display.unicode.east_asian_width',True)\n",
    "data = [[110,105,99],[105,88,115],[109,120,130],[112,115]]\n",
    "name = ['明日','七月流火','高圆圆','二月二']\n",
    "columns = ['语文','数学','英语']\n",
    "df = pd.DataFrame(data=data,index=name,columns=columns)\n",
    "print(df.loc[(df['语文'] > 105) & (df['数学'] > 88)])#抽取语文成绩大于105分，数学成绩大于88分的数据"
   ]
  },
  {
   "cell_type": "code",
   "execution_count": 86,
   "id": "975faeeb",
   "metadata": {},
   "outputs": [
    {
     "name": "stdout",
     "output_type": "stream",
     "text": [
      "          语文  数学   英语  物理\n",
      "明日       110   105   99.0    88\n",
      "七月流火   105    88  115.0    79\n",
      "高圆圆     109   120  130.0    60\n",
      "二月二     112   115    NaN    50\n"
     ]
    }
   ],
   "source": [
    "import pandas as pd\n",
    "pd.set_option('display.unicode.east_asian_width',True)\n",
    "data = [[110,105,99],[105,88,115],[109,120,130],[112,115]]\n",
    "name = ['明日','七月流火','高圆圆','二月二']\n",
    "columns = ['语文','数学','英语']\n",
    "df = pd.DataFrame(data=data,index=name,columns=columns)\n",
    "df['物理'] = [88,79,60,50]\n",
    "print(df)"
   ]
  },
  {
   "cell_type": "code",
   "execution_count": 87,
   "id": "9a0c147c",
   "metadata": {},
   "outputs": [
    {
     "name": "stdout",
     "output_type": "stream",
     "text": [
      "          语文  数学   英语  物理\n",
      "明日       110   105   99.0    88\n",
      "七月流火   105    88  115.0    79\n",
      "高圆圆     109   120  130.0    60\n",
      "二月二     112   115    NaN    50\n"
     ]
    }
   ],
   "source": [
    "import pandas as pd\n",
    "pd.set_option('display.unicode.east_asian_width',True)\n",
    "data = [[110,105,99],[105,88,115],[109,120,130],[112,115]]\n",
    "name = ['明日','七月流火','高圆圆','二月二']\n",
    "columns = ['语文','数学','英语']\n",
    "df = pd.DataFrame(data=data,index=name,columns=columns)\n",
    "df.loc[:,'物理'] = [88,79,60,50]\n",
    "print(df)"
   ]
  },
  {
   "cell_type": "code",
   "execution_count": 88,
   "id": "4d351047",
   "metadata": {},
   "outputs": [
    {
     "name": "stdout",
     "output_type": "stream",
     "text": [
      "          语文  物理  数学   英语\n",
      "明日       110    88   105   99.0\n",
      "七月流火   105    79    88  115.0\n",
      "高圆圆     109    60   120  130.0\n",
      "二月二     112    50   115    NaN\n"
     ]
    }
   ],
   "source": [
    "import pandas as pd\n",
    "pd.set_option('display.unicode.east_asian_width',True)\n",
    "data = [[110,105,99],[105,88,115],[109,120,130],[112,115]]\n",
    "name = ['明日','七月流火','高圆圆','二月二']\n",
    "columns = ['语文','数学','英语']\n",
    "df = pd.DataFrame(data=data,index=name,columns=columns)\n",
    "wl = [88,79,60,50]\n",
    "df.insert(1,'物理',wl)\n",
    "print(df)"
   ]
  },
  {
   "cell_type": "code",
   "execution_count": 89,
   "id": "43c8e51b",
   "metadata": {},
   "outputs": [
    {
     "name": "stdout",
     "output_type": "stream",
     "text": [
      "          语文  数学   英语\n",
      "明日       110   105   99.0\n",
      "七月流火   105    88  115.0\n",
      "高圆圆     109   120  130.0\n",
      "二月二     112   115    NaN\n",
      "钱多多     100   120   99.0\n"
     ]
    }
   ],
   "source": [
    "import pandas as pd\n",
    "pd.set_option('display.unicode.east_asian_width',True)\n",
    "data = [[110,105,99],[105,88,115],[109,120,130],[112,115]]\n",
    "name = ['明日','七月流火','高圆圆','二月二']\n",
    "columns = ['语文','数学','英语']\n",
    "df = pd.DataFrame(data=data,index=name,columns=columns)\n",
    "df.loc['钱多多'] = [100,120,99]\n",
    "print(df)"
   ]
  },
  {
   "cell_type": "code",
   "execution_count": 97,
   "id": "fa02514a",
   "metadata": {},
   "outputs": [
    {
     "name": "stdout",
     "output_type": "stream",
     "text": [
      "          语文  数学   英语\n",
      "明日       110   105   99.0\n",
      "七月流火   105    88  115.0\n",
      "高圆圆     109   120  130.0\n",
      "二月二     112   115    NaN\n",
      "钱多多     100    99   98.0\n",
      "童年       123   142  139.0\n",
      "无名       138    60   99.0\n"
     ]
    }
   ],
   "source": [
    "import pandas as pd\n",
    "pd.set_option('display.unicode.east_asian_width',True)\n",
    "data = [[110,105,99],[105,88,115],[109,120,130],[112,115]]\n",
    "name = ['明日','七月流火','高圆圆','二月二']\n",
    "columns = ['语文','数学','英语']\n",
    "df = pd.DataFrame(data=data,index=name,columns=columns)\n",
    "df_insert=pd.DataFrame({'语文':[100,123,138],'数学':[99,142,60],'英语':[98,139,99]},index=['钱多多','童年','无名'])\n",
    "df1 = pd.concat([df,df_insert])#合并\n",
    "print(df1)"
   ]
  },
  {
   "cell_type": "code",
   "execution_count": 98,
   "id": "c3ea0ecb",
   "metadata": {},
   "outputs": [
    {
     "name": "stdout",
     "output_type": "stream",
     "text": [
      "          语文  数学(上)   英语\n",
      "明日       110       105   99.0\n",
      "七月流火   105        88  115.0\n",
      "高圆圆     109       120  130.0\n",
      "二月二     112       115    NaN\n"
     ]
    }
   ],
   "source": [
    "import pandas as pd\n",
    "pd.set_option('display.unicode.east_asian_width',True)\n",
    "data = [[110,105,99],[105,88,115],[109,120,130],[112,115]]\n",
    "name = ['明日','七月流火','高圆圆','二月二']\n",
    "columns = ['语文','数学','英语']\n",
    "df = pd.DataFrame(data=data,index=name,columns=columns)\n",
    "df.columns=['语文','数学(上)','英语']\n",
    "print(df)"
   ]
  },
  {
   "cell_type": "code",
   "execution_count": 100,
   "id": "36622694",
   "metadata": {},
   "outputs": [
    {
     "name": "stdout",
     "output_type": "stream",
     "text": [
      "          语文(上)  数学(上)   英语\n",
      "明日           110       105   99.0\n",
      "七月流火       105        88  115.0\n",
      "高圆圆         109       120  130.0\n",
      "二月二         112       115    NaN\n"
     ]
    }
   ],
   "source": [
    "#修改多个学科的列名\n",
    "import pandas as pd\n",
    "pd.set_option('display.unicode.east_asian_width',True)\n",
    "data = [[110,105,99],[105,88,115],[109,120,130],[112,115]]\n",
    "name = ['明日','七月流火','高圆圆','二月二']\n",
    "columns = ['语文','数学','英语']\n",
    "df = pd.DataFrame(data=data,index=name,columns=columns)\n",
    "df.rename(columns={'语文':'语文(上)','数学':'数学(上)'},inplace=True)\n",
    "print(df)"
   ]
  },
  {
   "cell_type": "code",
   "execution_count": 101,
   "id": "276308f0",
   "metadata": {},
   "outputs": [
    {
     "name": "stdout",
     "output_type": "stream",
     "text": [
      "   语文  数学   英语\n",
      "1   110   105   99.0\n",
      "2   105    88  115.0\n",
      "3   109   120  130.0\n",
      "4   112   115    NaN\n"
     ]
    }
   ],
   "source": [
    "#修改行标题\n",
    "import pandas as pd\n",
    "pd.set_option('display.unicode.east_asian_width',True)\n",
    "data = [[110,105,99],[105,88,115],[109,120,130],[112,115]]\n",
    "name = ['明日','七月流火','高圆圆','二月二']\n",
    "columns = ['语文','数学','英语']\n",
    "df = pd.DataFrame(data=data,index=name,columns=columns)\n",
    "df.index=list('1234')\n",
    "print(df)"
   ]
  },
  {
   "cell_type": "code",
   "execution_count": null,
   "id": "9d32efab",
   "metadata": {},
   "outputs": [],
   "source": [
    "#使用rename方法修改行标题\n",
    "import pandas as pd\n",
    "pd.set_option('display.unicode.east_asian_width',True)\n",
    "data = [[110,105,99],[105,88,115],[109,120,130],[112,115]]\n",
    "name = ['明日','七月流火','高圆圆','二月二']\n",
    "columns = ['语文','数学','英语']\n",
    "df = pd.DataFrame(data=data,index=name,columns=columns)\n",
    "df.rename({})"
   ]
  }
 ],
 "metadata": {
  "kernelspec": {
   "display_name": "Python 3 (ipykernel)",
   "language": "python",
   "name": "python3"
  },
  "language_info": {
   "codemirror_mode": {
    "name": "ipython",
    "version": 3
   },
   "file_extension": ".py",
   "mimetype": "text/x-python",
   "name": "python",
   "nbconvert_exporter": "python",
   "pygments_lexer": "ipython3",
   "version": "3.8.13"
  }
 },
 "nbformat": 4,
 "nbformat_minor": 5
}
